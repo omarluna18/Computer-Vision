{
 "cells": [
  {
   "cell_type": "markdown",
   "id": "0151375e",
   "metadata": {},
   "source": [
    "## Ejemplo de flujo óptico disperso en archivo de video"
   ]
  },
  {
   "cell_type": "code",
   "execution_count": 1,
   "id": "c712da20",
   "metadata": {},
   "outputs": [
    {
     "name": "stdout",
     "output_type": "stream",
     "text": [
      "No frame here\n"
     ]
    }
   ],
   "source": [
    "import cv2\n",
    "import numpy as np\n",
    "#import imutils\n",
    "\n",
    "# Parameters for Shi-Tomasi corner detection\n",
    "feature_params = dict(maxCorners=300, qualityLevel=0.2, minDistance=2, blockSize=7)\n",
    "\n",
    "# Parameters for Lucas-Kanade optical flow\n",
    "lk_params = dict(winSize=(15, 15),\n",
    "                 maxLevel=2,\n",
    "                 criteria=(cv2.TERM_CRITERIA_EPS | cv2.TERM_CRITERIA_COUNT, 10, 0.03)\n",
    "                 )\n",
    "\n",
    "# The video feed is read in as a VideoCapture object\n",
    "video_capture = cv2.VideoCapture('Anomaly-Videos-Part-2/Anomaly-Videos-Part-2/Fighting/Fighting036_x264.mp4')\n",
    "#video_capture = cv2.VideoCapture(video)\n",
    "\n",
    "# Variable for color to draw optical flow track\n",
    "color = (0, 255, 0)\n",
    "\n",
    "# ret = a boolean return value from getting the frame, first_frame = the first frame in the entire video sequence\n",
    "ret, first_frame = video_capture.read()\n",
    "# Converts frame to grayscale because we only need the luminance channel for detecting edges - less computationally expensive\n",
    "prev_gray = cv2.cvtColor(first_frame, cv2.COLOR_BGR2GRAY)\n",
    "# Finds the strongest corners in the first frame by Shi-Tomasi method - we will track the optical flow for these corners\n",
    "# https://docs.opencv.org/3.0-beta/modules/imgproc/doc/feature_detection.html#goodfeaturestotrack\n",
    "prev = cv2.goodFeaturesToTrack(prev_gray, mask=None, **feature_params)\n",
    "\n",
    "# Creates an image filled with zero intensities with the same dimensions as the frame - for later drawing purposes\n",
    "mask = np.zeros_like(first_frame)\n",
    "\n",
    "while video_capture.isOpened():\n",
    "    # ret = a boolean return value from getting the frame, frame = the current frame being projected in the video\n",
    "    ret, frame = video_capture.read()\n",
    "\n",
    "    if frame is None:\n",
    "        print(\"No frame here\")\n",
    "        break\n",
    "\n",
    "    # Converts each frame to grayscale\n",
    "    gray = cv2.cvtColor(frame, cv2.COLOR_BGR2GRAY)\n",
    "\n",
    "    # Calculates sparse optical flow by Lucas-Kanade method\n",
    "    # https://docs.opencv.org/3.0-beta/modules/video/doc/motion_analysis_and_object_tracking.html#calcopticalflowpyrlk\n",
    "    prev = cv2.goodFeaturesToTrack(prev_gray, mask=None, **feature_params)\n",
    "    next_points, status, error = cv2.calcOpticalFlowPyrLK(prev_gray, gray, prev, None, **lk_params)\n",
    "\n",
    "    # Selects good feature points for previous position\n",
    "    good_old = prev[status == 1].astype(int)\n",
    "\n",
    "    # Selects good feature points for next position\n",
    "    good_new = next_points[status == 1].astype(int)\n",
    "\n",
    "    # Draws the optical flow tracks\n",
    "    for i, (new, old) in enumerate(zip(good_new, good_old)):\n",
    "        # Returns a contiguous flattened array as (x, y) coordinates for new point\n",
    "        a, b = new.ravel()\n",
    "\n",
    "        # Returns a contiguous flattened array as (x, y) coordinates for old point\n",
    "        c, d = old.ravel()\n",
    "\n",
    "        # Draws line between new and old position with green color and 2 thickness\n",
    "        mask = cv2.line(mask, (a, b), (c, d), color, 2)\n",
    "\n",
    "        # Draws filled circle (thickness of -1) at new position with green color and radius of 3\n",
    "        frame = cv2.circle(frame, (a, b), 3, color, -1)\n",
    "\n",
    "    # Overlays the optical flow tracks on the original frame\n",
    "    output = cv2.add(frame, mask)\n",
    "\n",
    "    # Updates previous frame\n",
    "    prev_gray = gray.copy()\n",
    "\n",
    "    # Updates previous good feature points\n",
    "    prev = good_new.reshape(-1, 1, 2)\n",
    "\n",
    "    # Opens a new window and displays the output frame\n",
    "    cv2.imshow(\"sparse optical flow\", output)\n",
    "\n",
    "    # Frames are read by intervals of 10 milliseconds. The programs breaks out of the while loop when the user presses the 'q' key\n",
    "    if cv2.waitKey(1) & 0xFF == ord('q'):\n",
    "        break\n",
    "        \n",
    "        \n",
    "# The following frees up resources and closes all windows\n",
    "video_capture.release()\n",
    "cv2.destroyAllWindows()"
   ]
  }
 ],
 "metadata": {
  "kernelspec": {
   "display_name": "Python 3 (ipykernel)",
   "language": "python",
   "name": "python3"
  },
  "language_info": {
   "codemirror_mode": {
    "name": "ipython",
    "version": 3
   },
   "file_extension": ".py",
   "mimetype": "text/x-python",
   "name": "python",
   "nbconvert_exporter": "python",
   "pygments_lexer": "ipython3",
   "version": "3.9.7"
  }
 },
 "nbformat": 4,
 "nbformat_minor": 5
}
